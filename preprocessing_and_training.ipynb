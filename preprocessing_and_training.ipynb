{
 "cells": [
  {
   "cell_type": "code",
   "execution_count": 1,
   "id": "423f05a9",
   "metadata": {},
   "outputs": [],
   "source": [
    "import pandas as pd \n",
    "import matplotlib.pyplot as plt\n",
    "import numpy as np\n",
    "import datetime as dt\n",
    "import time\n",
    "import seaborn as sns\n",
    "sns.set()"
   ]
  },
  {
   "cell_type": "code",
   "execution_count": 2,
   "id": "14fee3dd",
   "metadata": {},
   "outputs": [],
   "source": [
    "# Global parameters for easy access. Ideally these would be the same but that's not a requirement.\n",
    "NUMBER_OF_CLUSTERS = 10\n",
    "NUMBER_OF_CATEGORIES = 5"
   ]
  },
  {
   "cell_type": "code",
   "execution_count": 3,
   "id": "e60050ed",
   "metadata": {},
   "outputs": [
    {
     "ename": "FileNotFoundError",
     "evalue": "[Errno 2] No such file or directory: 'invoice_data_with_features.csv'",
     "output_type": "error",
     "traceback": [
      "\u001b[1;31m---------------------------------------------------------------------------\u001b[0m",
      "\u001b[1;31mFileNotFoundError\u001b[0m                         Traceback (most recent call last)",
      "Input \u001b[1;32mIn [3]\u001b[0m, in \u001b[0;36m<cell line: 3>\u001b[1;34m()\u001b[0m\n\u001b[0;32m      1\u001b[0m pd\u001b[38;5;241m.\u001b[39mset_option(\u001b[38;5;124m'\u001b[39m\u001b[38;5;124mdisplay.max_columns\u001b[39m\u001b[38;5;124m'\u001b[39m, \u001b[38;5;28;01mNone\u001b[39;00m)\n\u001b[0;32m      2\u001b[0m \u001b[38;5;66;03m#Load data and keep index id as \"ind_id\"\u001b[39;00m\n\u001b[1;32m----> 3\u001b[0m data \u001b[38;5;241m=\u001b[39m \u001b[43mpd\u001b[49m\u001b[38;5;241;43m.\u001b[39;49m\u001b[43mread_csv\u001b[49m\u001b[43m(\u001b[49m\u001b[38;5;124;43m\"\u001b[39;49m\u001b[38;5;124;43minvoice_data_with_features.csv\u001b[39;49m\u001b[38;5;124;43m\"\u001b[39;49m\u001b[43m,\u001b[49m\u001b[43m \u001b[49m\u001b[43msep\u001b[49m\u001b[38;5;241;43m=\u001b[39;49m\u001b[38;5;124;43m\"\u001b[39;49m\u001b[38;5;124;43m,\u001b[39;49m\u001b[38;5;124;43m\"\u001b[39;49m\u001b[43m,\u001b[49m\u001b[43m \u001b[49m\u001b[43mindex_col\u001b[49m\u001b[38;5;241;43m=\u001b[39;49m\u001b[38;5;241;43m0\u001b[39;49m\u001b[43m)\u001b[49m\n",
      "File \u001b[1;32m~\\anaconda3\\lib\\site-packages\\pandas\\util\\_decorators.py:311\u001b[0m, in \u001b[0;36mdeprecate_nonkeyword_arguments.<locals>.decorate.<locals>.wrapper\u001b[1;34m(*args, **kwargs)\u001b[0m\n\u001b[0;32m    305\u001b[0m \u001b[38;5;28;01mif\u001b[39;00m \u001b[38;5;28mlen\u001b[39m(args) \u001b[38;5;241m>\u001b[39m num_allow_args:\n\u001b[0;32m    306\u001b[0m     warnings\u001b[38;5;241m.\u001b[39mwarn(\n\u001b[0;32m    307\u001b[0m         msg\u001b[38;5;241m.\u001b[39mformat(arguments\u001b[38;5;241m=\u001b[39marguments),\n\u001b[0;32m    308\u001b[0m         \u001b[38;5;167;01mFutureWarning\u001b[39;00m,\n\u001b[0;32m    309\u001b[0m         stacklevel\u001b[38;5;241m=\u001b[39mstacklevel,\n\u001b[0;32m    310\u001b[0m     )\n\u001b[1;32m--> 311\u001b[0m \u001b[38;5;28;01mreturn\u001b[39;00m \u001b[43mfunc\u001b[49m\u001b[43m(\u001b[49m\u001b[38;5;241;43m*\u001b[39;49m\u001b[43margs\u001b[49m\u001b[43m,\u001b[49m\u001b[43m \u001b[49m\u001b[38;5;241;43m*\u001b[39;49m\u001b[38;5;241;43m*\u001b[39;49m\u001b[43mkwargs\u001b[49m\u001b[43m)\u001b[49m\n",
      "File \u001b[1;32m~\\anaconda3\\lib\\site-packages\\pandas\\io\\parsers\\readers.py:678\u001b[0m, in \u001b[0;36mread_csv\u001b[1;34m(filepath_or_buffer, sep, delimiter, header, names, index_col, usecols, squeeze, prefix, mangle_dupe_cols, dtype, engine, converters, true_values, false_values, skipinitialspace, skiprows, skipfooter, nrows, na_values, keep_default_na, na_filter, verbose, skip_blank_lines, parse_dates, infer_datetime_format, keep_date_col, date_parser, dayfirst, cache_dates, iterator, chunksize, compression, thousands, decimal, lineterminator, quotechar, quoting, doublequote, escapechar, comment, encoding, encoding_errors, dialect, error_bad_lines, warn_bad_lines, on_bad_lines, delim_whitespace, low_memory, memory_map, float_precision, storage_options)\u001b[0m\n\u001b[0;32m    663\u001b[0m kwds_defaults \u001b[38;5;241m=\u001b[39m _refine_defaults_read(\n\u001b[0;32m    664\u001b[0m     dialect,\n\u001b[0;32m    665\u001b[0m     delimiter,\n\u001b[1;32m   (...)\u001b[0m\n\u001b[0;32m    674\u001b[0m     defaults\u001b[38;5;241m=\u001b[39m{\u001b[38;5;124m\"\u001b[39m\u001b[38;5;124mdelimiter\u001b[39m\u001b[38;5;124m\"\u001b[39m: \u001b[38;5;124m\"\u001b[39m\u001b[38;5;124m,\u001b[39m\u001b[38;5;124m\"\u001b[39m},\n\u001b[0;32m    675\u001b[0m )\n\u001b[0;32m    676\u001b[0m kwds\u001b[38;5;241m.\u001b[39mupdate(kwds_defaults)\n\u001b[1;32m--> 678\u001b[0m \u001b[38;5;28;01mreturn\u001b[39;00m \u001b[43m_read\u001b[49m\u001b[43m(\u001b[49m\u001b[43mfilepath_or_buffer\u001b[49m\u001b[43m,\u001b[49m\u001b[43m \u001b[49m\u001b[43mkwds\u001b[49m\u001b[43m)\u001b[49m\n",
      "File \u001b[1;32m~\\anaconda3\\lib\\site-packages\\pandas\\io\\parsers\\readers.py:575\u001b[0m, in \u001b[0;36m_read\u001b[1;34m(filepath_or_buffer, kwds)\u001b[0m\n\u001b[0;32m    572\u001b[0m _validate_names(kwds\u001b[38;5;241m.\u001b[39mget(\u001b[38;5;124m\"\u001b[39m\u001b[38;5;124mnames\u001b[39m\u001b[38;5;124m\"\u001b[39m, \u001b[38;5;28;01mNone\u001b[39;00m))\n\u001b[0;32m    574\u001b[0m \u001b[38;5;66;03m# Create the parser.\u001b[39;00m\n\u001b[1;32m--> 575\u001b[0m parser \u001b[38;5;241m=\u001b[39m \u001b[43mTextFileReader\u001b[49m\u001b[43m(\u001b[49m\u001b[43mfilepath_or_buffer\u001b[49m\u001b[43m,\u001b[49m\u001b[43m \u001b[49m\u001b[38;5;241;43m*\u001b[39;49m\u001b[38;5;241;43m*\u001b[39;49m\u001b[43mkwds\u001b[49m\u001b[43m)\u001b[49m\n\u001b[0;32m    577\u001b[0m \u001b[38;5;28;01mif\u001b[39;00m chunksize \u001b[38;5;129;01mor\u001b[39;00m iterator:\n\u001b[0;32m    578\u001b[0m     \u001b[38;5;28;01mreturn\u001b[39;00m parser\n",
      "File \u001b[1;32m~\\anaconda3\\lib\\site-packages\\pandas\\io\\parsers\\readers.py:932\u001b[0m, in \u001b[0;36mTextFileReader.__init__\u001b[1;34m(self, f, engine, **kwds)\u001b[0m\n\u001b[0;32m    929\u001b[0m     \u001b[38;5;28mself\u001b[39m\u001b[38;5;241m.\u001b[39moptions[\u001b[38;5;124m\"\u001b[39m\u001b[38;5;124mhas_index_names\u001b[39m\u001b[38;5;124m\"\u001b[39m] \u001b[38;5;241m=\u001b[39m kwds[\u001b[38;5;124m\"\u001b[39m\u001b[38;5;124mhas_index_names\u001b[39m\u001b[38;5;124m\"\u001b[39m]\n\u001b[0;32m    931\u001b[0m \u001b[38;5;28mself\u001b[39m\u001b[38;5;241m.\u001b[39mhandles: IOHandles \u001b[38;5;241m|\u001b[39m \u001b[38;5;28;01mNone\u001b[39;00m \u001b[38;5;241m=\u001b[39m \u001b[38;5;28;01mNone\u001b[39;00m\n\u001b[1;32m--> 932\u001b[0m \u001b[38;5;28mself\u001b[39m\u001b[38;5;241m.\u001b[39m_engine \u001b[38;5;241m=\u001b[39m \u001b[38;5;28;43mself\u001b[39;49m\u001b[38;5;241;43m.\u001b[39;49m\u001b[43m_make_engine\u001b[49m\u001b[43m(\u001b[49m\u001b[43mf\u001b[49m\u001b[43m,\u001b[49m\u001b[43m \u001b[49m\u001b[38;5;28;43mself\u001b[39;49m\u001b[38;5;241;43m.\u001b[39;49m\u001b[43mengine\u001b[49m\u001b[43m)\u001b[49m\n",
      "File \u001b[1;32m~\\anaconda3\\lib\\site-packages\\pandas\\io\\parsers\\readers.py:1216\u001b[0m, in \u001b[0;36mTextFileReader._make_engine\u001b[1;34m(self, f, engine)\u001b[0m\n\u001b[0;32m   1212\u001b[0m     mode \u001b[38;5;241m=\u001b[39m \u001b[38;5;124m\"\u001b[39m\u001b[38;5;124mrb\u001b[39m\u001b[38;5;124m\"\u001b[39m\n\u001b[0;32m   1213\u001b[0m \u001b[38;5;66;03m# error: No overload variant of \"get_handle\" matches argument types\u001b[39;00m\n\u001b[0;32m   1214\u001b[0m \u001b[38;5;66;03m# \"Union[str, PathLike[str], ReadCsvBuffer[bytes], ReadCsvBuffer[str]]\"\u001b[39;00m\n\u001b[0;32m   1215\u001b[0m \u001b[38;5;66;03m# , \"str\", \"bool\", \"Any\", \"Any\", \"Any\", \"Any\", \"Any\"\u001b[39;00m\n\u001b[1;32m-> 1216\u001b[0m \u001b[38;5;28mself\u001b[39m\u001b[38;5;241m.\u001b[39mhandles \u001b[38;5;241m=\u001b[39m \u001b[43mget_handle\u001b[49m\u001b[43m(\u001b[49m\u001b[43m  \u001b[49m\u001b[38;5;66;43;03m# type: ignore[call-overload]\u001b[39;49;00m\n\u001b[0;32m   1217\u001b[0m \u001b[43m    \u001b[49m\u001b[43mf\u001b[49m\u001b[43m,\u001b[49m\n\u001b[0;32m   1218\u001b[0m \u001b[43m    \u001b[49m\u001b[43mmode\u001b[49m\u001b[43m,\u001b[49m\n\u001b[0;32m   1219\u001b[0m \u001b[43m    \u001b[49m\u001b[43mencoding\u001b[49m\u001b[38;5;241;43m=\u001b[39;49m\u001b[38;5;28;43mself\u001b[39;49m\u001b[38;5;241;43m.\u001b[39;49m\u001b[43moptions\u001b[49m\u001b[38;5;241;43m.\u001b[39;49m\u001b[43mget\u001b[49m\u001b[43m(\u001b[49m\u001b[38;5;124;43m\"\u001b[39;49m\u001b[38;5;124;43mencoding\u001b[39;49m\u001b[38;5;124;43m\"\u001b[39;49m\u001b[43m,\u001b[49m\u001b[43m \u001b[49m\u001b[38;5;28;43;01mNone\u001b[39;49;00m\u001b[43m)\u001b[49m\u001b[43m,\u001b[49m\n\u001b[0;32m   1220\u001b[0m \u001b[43m    \u001b[49m\u001b[43mcompression\u001b[49m\u001b[38;5;241;43m=\u001b[39;49m\u001b[38;5;28;43mself\u001b[39;49m\u001b[38;5;241;43m.\u001b[39;49m\u001b[43moptions\u001b[49m\u001b[38;5;241;43m.\u001b[39;49m\u001b[43mget\u001b[49m\u001b[43m(\u001b[49m\u001b[38;5;124;43m\"\u001b[39;49m\u001b[38;5;124;43mcompression\u001b[39;49m\u001b[38;5;124;43m\"\u001b[39;49m\u001b[43m,\u001b[49m\u001b[43m \u001b[49m\u001b[38;5;28;43;01mNone\u001b[39;49;00m\u001b[43m)\u001b[49m\u001b[43m,\u001b[49m\n\u001b[0;32m   1221\u001b[0m \u001b[43m    \u001b[49m\u001b[43mmemory_map\u001b[49m\u001b[38;5;241;43m=\u001b[39;49m\u001b[38;5;28;43mself\u001b[39;49m\u001b[38;5;241;43m.\u001b[39;49m\u001b[43moptions\u001b[49m\u001b[38;5;241;43m.\u001b[39;49m\u001b[43mget\u001b[49m\u001b[43m(\u001b[49m\u001b[38;5;124;43m\"\u001b[39;49m\u001b[38;5;124;43mmemory_map\u001b[39;49m\u001b[38;5;124;43m\"\u001b[39;49m\u001b[43m,\u001b[49m\u001b[43m \u001b[49m\u001b[38;5;28;43;01mFalse\u001b[39;49;00m\u001b[43m)\u001b[49m\u001b[43m,\u001b[49m\n\u001b[0;32m   1222\u001b[0m \u001b[43m    \u001b[49m\u001b[43mis_text\u001b[49m\u001b[38;5;241;43m=\u001b[39;49m\u001b[43mis_text\u001b[49m\u001b[43m,\u001b[49m\n\u001b[0;32m   1223\u001b[0m \u001b[43m    \u001b[49m\u001b[43merrors\u001b[49m\u001b[38;5;241;43m=\u001b[39;49m\u001b[38;5;28;43mself\u001b[39;49m\u001b[38;5;241;43m.\u001b[39;49m\u001b[43moptions\u001b[49m\u001b[38;5;241;43m.\u001b[39;49m\u001b[43mget\u001b[49m\u001b[43m(\u001b[49m\u001b[38;5;124;43m\"\u001b[39;49m\u001b[38;5;124;43mencoding_errors\u001b[39;49m\u001b[38;5;124;43m\"\u001b[39;49m\u001b[43m,\u001b[49m\u001b[43m \u001b[49m\u001b[38;5;124;43m\"\u001b[39;49m\u001b[38;5;124;43mstrict\u001b[39;49m\u001b[38;5;124;43m\"\u001b[39;49m\u001b[43m)\u001b[49m\u001b[43m,\u001b[49m\n\u001b[0;32m   1224\u001b[0m \u001b[43m    \u001b[49m\u001b[43mstorage_options\u001b[49m\u001b[38;5;241;43m=\u001b[39;49m\u001b[38;5;28;43mself\u001b[39;49m\u001b[38;5;241;43m.\u001b[39;49m\u001b[43moptions\u001b[49m\u001b[38;5;241;43m.\u001b[39;49m\u001b[43mget\u001b[49m\u001b[43m(\u001b[49m\u001b[38;5;124;43m\"\u001b[39;49m\u001b[38;5;124;43mstorage_options\u001b[39;49m\u001b[38;5;124;43m\"\u001b[39;49m\u001b[43m,\u001b[49m\u001b[43m \u001b[49m\u001b[38;5;28;43;01mNone\u001b[39;49;00m\u001b[43m)\u001b[49m\u001b[43m,\u001b[49m\n\u001b[0;32m   1225\u001b[0m \u001b[43m\u001b[49m\u001b[43m)\u001b[49m\n\u001b[0;32m   1226\u001b[0m \u001b[38;5;28;01massert\u001b[39;00m \u001b[38;5;28mself\u001b[39m\u001b[38;5;241m.\u001b[39mhandles \u001b[38;5;129;01mis\u001b[39;00m \u001b[38;5;129;01mnot\u001b[39;00m \u001b[38;5;28;01mNone\u001b[39;00m\n\u001b[0;32m   1227\u001b[0m f \u001b[38;5;241m=\u001b[39m \u001b[38;5;28mself\u001b[39m\u001b[38;5;241m.\u001b[39mhandles\u001b[38;5;241m.\u001b[39mhandle\n",
      "File \u001b[1;32m~\\anaconda3\\lib\\site-packages\\pandas\\io\\common.py:786\u001b[0m, in \u001b[0;36mget_handle\u001b[1;34m(path_or_buf, mode, encoding, compression, memory_map, is_text, errors, storage_options)\u001b[0m\n\u001b[0;32m    781\u001b[0m \u001b[38;5;28;01melif\u001b[39;00m \u001b[38;5;28misinstance\u001b[39m(handle, \u001b[38;5;28mstr\u001b[39m):\n\u001b[0;32m    782\u001b[0m     \u001b[38;5;66;03m# Check whether the filename is to be opened in binary mode.\u001b[39;00m\n\u001b[0;32m    783\u001b[0m     \u001b[38;5;66;03m# Binary mode does not support 'encoding' and 'newline'.\u001b[39;00m\n\u001b[0;32m    784\u001b[0m     \u001b[38;5;28;01mif\u001b[39;00m ioargs\u001b[38;5;241m.\u001b[39mencoding \u001b[38;5;129;01mand\u001b[39;00m \u001b[38;5;124m\"\u001b[39m\u001b[38;5;124mb\u001b[39m\u001b[38;5;124m\"\u001b[39m \u001b[38;5;129;01mnot\u001b[39;00m \u001b[38;5;129;01min\u001b[39;00m ioargs\u001b[38;5;241m.\u001b[39mmode:\n\u001b[0;32m    785\u001b[0m         \u001b[38;5;66;03m# Encoding\u001b[39;00m\n\u001b[1;32m--> 786\u001b[0m         handle \u001b[38;5;241m=\u001b[39m \u001b[38;5;28;43mopen\u001b[39;49m\u001b[43m(\u001b[49m\n\u001b[0;32m    787\u001b[0m \u001b[43m            \u001b[49m\u001b[43mhandle\u001b[49m\u001b[43m,\u001b[49m\n\u001b[0;32m    788\u001b[0m \u001b[43m            \u001b[49m\u001b[43mioargs\u001b[49m\u001b[38;5;241;43m.\u001b[39;49m\u001b[43mmode\u001b[49m\u001b[43m,\u001b[49m\n\u001b[0;32m    789\u001b[0m \u001b[43m            \u001b[49m\u001b[43mencoding\u001b[49m\u001b[38;5;241;43m=\u001b[39;49m\u001b[43mioargs\u001b[49m\u001b[38;5;241;43m.\u001b[39;49m\u001b[43mencoding\u001b[49m\u001b[43m,\u001b[49m\n\u001b[0;32m    790\u001b[0m \u001b[43m            \u001b[49m\u001b[43merrors\u001b[49m\u001b[38;5;241;43m=\u001b[39;49m\u001b[43merrors\u001b[49m\u001b[43m,\u001b[49m\n\u001b[0;32m    791\u001b[0m \u001b[43m            \u001b[49m\u001b[43mnewline\u001b[49m\u001b[38;5;241;43m=\u001b[39;49m\u001b[38;5;124;43m\"\u001b[39;49m\u001b[38;5;124;43m\"\u001b[39;49m\u001b[43m,\u001b[49m\n\u001b[0;32m    792\u001b[0m \u001b[43m        \u001b[49m\u001b[43m)\u001b[49m\n\u001b[0;32m    793\u001b[0m     \u001b[38;5;28;01melse\u001b[39;00m:\n\u001b[0;32m    794\u001b[0m         \u001b[38;5;66;03m# Binary mode\u001b[39;00m\n\u001b[0;32m    795\u001b[0m         handle \u001b[38;5;241m=\u001b[39m \u001b[38;5;28mopen\u001b[39m(handle, ioargs\u001b[38;5;241m.\u001b[39mmode)\n",
      "\u001b[1;31mFileNotFoundError\u001b[0m: [Errno 2] No such file or directory: 'invoice_data_with_features.csv'"
     ]
    }
   ],
   "source": [
    "pd.set_option('display.max_columns', None)\n",
    "#Load data and keep index id as \"ind_id\"\n",
    "data = pd.read_csv(\"invoice_data_with_features.csv\", sep=\",\", index_col=0)"
   ]
  },
  {
   "cell_type": "code",
   "execution_count": null,
   "id": "a446d94b",
   "metadata": {},
   "outputs": [],
   "source": [
    "data['TransDate'] = pd.to_datetime(data['TransDate'])\n",
    "data['DueDate'] = pd.to_datetime(data['DueDate'])\n",
    "data['SettleTransDate'] = pd.to_datetime(data['SettleTransDate'])\n",
    "data['Customer_NKey'] = data['Customer_NKey'].astype('category')\n",
    "data['last_invoice_paid_status'] = data['last_invoice_paid_status'].astype('category')\n",
    "data['Invoice'] = data['Invoice'].astype('category')\n",
    "data['is_late'] = data['is_late'].astype('category')"
   ]
  },
  {
   "cell_type": "code",
   "execution_count": null,
   "id": "a3c60b63",
   "metadata": {},
   "outputs": [],
   "source": [
    "data.info()"
   ]
  },
  {
   "cell_type": "markdown",
   "id": "f2847afe",
   "metadata": {},
   "source": [
    "## Mini-exploration"
   ]
  },
  {
   "cell_type": "code",
   "execution_count": null,
   "id": "896786ac",
   "metadata": {
    "scrolled": true
   },
   "outputs": [],
   "source": [
    "data.groupby(\"Customer_NKey\").count()"
   ]
  },
  {
   "cell_type": "code",
   "execution_count": null,
   "id": "271eec4b",
   "metadata": {},
   "outputs": [],
   "source": [
    "def visualize_plots(dataset, column_name):\n",
    "    fig, ax = plt.subplots(1,1)\n",
    "    sns.histplot(data=dataset, x=\"days_late\", kde=True)\n",
    "    ax[0] =  sns.histplot(\n",
    "        data=dataset,\n",
    "        x=column_name,\n",
    "        kde=True)\n",
    "    column = f\"{column_name}\"\n",
    "    dataset.column.plot.hist(bins=50)"
   ]
  },
  {
   "cell_type": "code",
   "execution_count": null,
   "id": "cdc0fcb8",
   "metadata": {},
   "outputs": [],
   "source": [
    "data[(data['days_late']>=(-90) ) & (data['days_late']<=(90))][\"days_late\"].hist(bins=50)"
   ]
  },
  {
   "cell_type": "code",
   "execution_count": null,
   "id": "7e566546",
   "metadata": {
    "scrolled": false
   },
   "outputs": [],
   "source": [
    "data.groupby(\"Customer_NKey\").count().ind_id.plot.hist()"
   ]
  },
  {
   "cell_type": "code",
   "execution_count": null,
   "id": "542bcfe2",
   "metadata": {},
   "outputs": [],
   "source": [
    "data.groupby(\"Customer_NKey\").count().ind_id.plot.density()"
   ]
  },
  {
   "cell_type": "code",
   "execution_count": null,
   "id": "94c24f1f",
   "metadata": {
    "scrolled": false
   },
   "outputs": [],
   "source": [
    "data.groupby(\"Customer_NKey\").count().ind_id.sort_values(ascending=False).plot.bar()"
   ]
  },
  {
   "cell_type": "code",
   "execution_count": null,
   "id": "e73fa8d2",
   "metadata": {
    "scrolled": true
   },
   "outputs": [],
   "source": [
    "data.describe()"
   ]
  },
  {
   "cell_type": "markdown",
   "id": "6c8ea1e5",
   "metadata": {},
   "source": [
    "## Creating categories"
   ]
  },
  {
   "cell_type": "code",
   "execution_count": null,
   "id": "dc2b74c2",
   "metadata": {},
   "outputs": [],
   "source": [
    "def categorize(x, info):\n",
    "\n",
    "    if info == \"number\":\n",
    "        if x<(-7):\n",
    "            return(0)\n",
    "        #### ***How to seperate values around 0? Depends. This can be changed depending on the need. \n",
    "        #Change if needed\n",
    "        #### ***FOR NOW CONSIDERING 0-7 days early and late as one category, seperating them at 0 might not be best\n",
    "        #Change if needed\n",
    "        elif x in range(-7, 1):\n",
    "            return(1)\n",
    "        elif x in range(1, 8):\n",
    "            return(1)\n",
    "        #### \n",
    "        elif x in range(8, 31):\n",
    "            return(2)\n",
    "        elif x in range(31, 91):\n",
    "            return(3)\n",
    "        else: \n",
    "            return(4)\n",
    "        \n",
    "            if info ==  \"label\":\n",
    "        return(\"Disabled for testing\")\n",
    "# Use this when the optimal categories are decided\n",
    "    \n",
    "#         if x<(-90):\n",
    "#             return('Over 90 D early')\n",
    "#         elif x in range(-90,-60):\n",
    "#             return('61-90 D early')\n",
    "#         elif x in range(-60,-30):\n",
    "#             return('31-60 D early')\n",
    "#         elif x in range(-30,-7):\n",
    "#             return('8-30 D early')\n",
    "#         #### ***FOR NOW CONSIDERING 0-7 days early and late as one category, seperating them at 0 might not be best\n",
    "#         #Change if needed\n",
    "#         elif x in range(-7, 1):\n",
    "#             return('-7 to 0 days')\n",
    "#         elif x in range(1, 8):\n",
    "#             return('1 to 7 days')\n",
    "#         #### \n",
    "#         elif x in range(8, 31):\n",
    "#             return('8-30 D late')\n",
    "#         elif x in range(31, 61):\n",
    "#             return('31-60 D late')\n",
    "#         elif x in range(61, 91):\n",
    "#             return('61-90 D late')\n",
    "#         else: \n",
    "#             return('Over 90 D late')"
   ]
  },
  {
   "cell_type": "code",
   "execution_count": null,
   "id": "18b7f710",
   "metadata": {},
   "outputs": [],
   "source": [
    "## Categorize every invoice"
   ]
  },
  {
   "cell_type": "code",
   "execution_count": null,
   "id": "98537d79",
   "metadata": {},
   "outputs": [],
   "source": [
    "#Get category labels\n",
    "data[\"category\"] = data.days_late.apply(lambda x: categorize(x, \"label\"))"
   ]
  },
  {
   "cell_type": "code",
   "execution_count": null,
   "id": "42b249e7",
   "metadata": {},
   "outputs": [],
   "source": [
    "#Get category numbers\n",
    "data[\"category_no\"] = data.days_late.apply(lambda x: categorize(x, \"number\"))"
   ]
  },
  {
   "cell_type": "markdown",
   "id": "510267e5",
   "metadata": {},
   "source": [
    "## One-hot coding categorical features"
   ]
  },
  {
   "cell_type": "code",
   "execution_count": null,
   "id": "f4739106",
   "metadata": {},
   "outputs": [],
   "source": [
    "#Getting dummies for feature #10 last_invoice_paid_status\n",
    "data = pd.get_dummies(data, columns=['last_invoice_paid_status'], prefix = ['last_invoice_paid_status'])"
   ]
  },
  {
   "cell_type": "markdown",
   "id": "c42ef36f",
   "metadata": {},
   "source": [
    "## Seperating train, validation & test data"
   ]
  },
  {
   "cell_type": "markdown",
   "id": "9e63ac91",
   "metadata": {},
   "source": [
    "### Based on recency"
   ]
  },
  {
   "cell_type": "code",
   "execution_count": null,
   "id": "9d8f653a",
   "metadata": {},
   "outputs": [],
   "source": [
    "#CHANGE PERCENTAGES OF TRAIN/VAL/SPLIT HERE\n",
    "#Splitting the dataframe (must be already sorted by date)\n",
    "def train_validate_test_split(df, train_percent=.7, validate_percent=.15):\n",
    "    n = len(df.index)\n",
    "    train_end = int(train_percent * n)\n",
    "    validate_end = int(validate_percent * n) + train_end\n",
    "    train = df.iloc[:train_end]\n",
    "    validate = df.iloc[train_end:validate_end]\n",
    "    test = df.iloc[validate_end:]\n",
    "    return train, validate, test"
   ]
  },
  {
   "cell_type": "code",
   "execution_count": null,
   "id": "d8eaa21a",
   "metadata": {},
   "outputs": [],
   "source": [
    "def split_dataframes(dataset):\n",
    "    list_of_client_ids = dataset[\"Customer_NKey\"].unique()\n",
    "    train_df_list = []\n",
    "    validate_df_list = []\n",
    "    test_df_list = []\n",
    "    for client_id in list_of_client_ids:\n",
    "        dataframe = dataset[dataset[\"Customer_NKey\"] == client_id].sort_values(by=\"TransDate\", ascending=True)\n",
    "        train_df, val_df, test_df = train_validate_test_split(dataframe)\n",
    "        train_df_list.append(train_df)\n",
    "        validate_df_list.append(val_df)\n",
    "        test_df_list.append(test_df)\n",
    "    \n",
    "    df_train_final = pd.concat(train_df_list)\n",
    "    df_val_final = pd.concat(validate_df_list)\n",
    "    df_test_final = pd.concat(test_df_list)\n",
    "    return df_train_final, df_val_final, df_test_final"
   ]
  },
  {
   "cell_type": "code",
   "execution_count": null,
   "id": "96add3de",
   "metadata": {},
   "outputs": [],
   "source": [
    "# Splitting data into train, validate, and test dataframes. \n",
    "# Splitting based: percentage (%) of most recent invoices per each customer\n",
    "train_df, validate_df, test_df = split_dataframes(data)\n",
    "train_val_combined_df = pd.concat([train_df, validate_df])"
   ]
  },
  {
   "cell_type": "code",
   "execution_count": null,
   "id": "40f44e11",
   "metadata": {},
   "outputs": [],
   "source": [
    "#Compare\n",
    "train_df.describe()"
   ]
  },
  {
   "cell_type": "code",
   "execution_count": null,
   "id": "45a77af7",
   "metadata": {
    "scrolled": true
   },
   "outputs": [],
   "source": [
    "test_df.describe()"
   ]
  },
  {
   "cell_type": "markdown",
   "id": "2cec9d1b",
   "metadata": {},
   "source": [
    "### Late days between -90 and 90 distribution comparison"
   ]
  },
  {
   "cell_type": "code",
   "execution_count": null,
   "id": "708cc1b5",
   "metadata": {
    "scrolled": false
   },
   "outputs": [],
   "source": [
    "train_df[(train_df['days_late']>=(-90) ) & (train_df['days_late']<=(90))][\"days_late\"].hist(bins=50)"
   ]
  },
  {
   "cell_type": "code",
   "execution_count": null,
   "id": "8bcd8871",
   "metadata": {
    "scrolled": false
   },
   "outputs": [],
   "source": [
    "test_df[(test_df['days_late']>=(-90) ) & (test_df['days_late']<=(90))][\"days_late\"].hist(bins=50)"
   ]
  },
  {
   "cell_type": "markdown",
   "id": "700a67a1",
   "metadata": {},
   "source": [
    "### Density comparison"
   ]
  },
  {
   "cell_type": "code",
   "execution_count": null,
   "id": "09ed1170",
   "metadata": {
    "scrolled": false
   },
   "outputs": [],
   "source": [
    "train_df[\"days_late\"].value_counts().plot.density()"
   ]
  },
  {
   "cell_type": "code",
   "execution_count": null,
   "id": "000fe262",
   "metadata": {},
   "outputs": [],
   "source": [
    "test_df[\"days_late\"].value_counts().plot.density()"
   ]
  },
  {
   "cell_type": "markdown",
   "id": "d7e61eb8",
   "metadata": {},
   "source": [
    "# Preparation for training"
   ]
  },
  {
   "cell_type": "code",
   "execution_count": null,
   "id": "0dfeb8c7",
   "metadata": {},
   "outputs": [],
   "source": [
    "#For training the models\n",
    "import xgboost as xgb\n",
    "import sklearn.metrics as sm\n",
    "from sklearn.ensemble import RandomForestRegressor, AdaBoostClassifier\n",
    "from sklearn.tree import DecisionTreeRegressor, DecisionTreeClassifier\n",
    "from sklearn.linear_model import LinearRegression,Ridge,Lasso, LogisticRegression\n",
    "from sklearn.svm import SVR\n",
    "from sklearn.model_selection import train_test_split,GridSearchCV,cross_val_score,cross_val_predict,cross_validate,RandomizedSearchCV\n",
    "from sklearn.metrics import mean_squared_error,mean_absolute_error,explained_variance_score,max_error,r2_score,median_absolute_error,mean_squared_log_error\n",
    "from sklearn.preprocessing import MinMaxScaler,normalize,StandardScaler,RobustScaler, Normalizer\n",
    "from sklearn.metrics import f1_score, accuracy_score\n",
    "from imblearn.combine import SMOTETomek\n",
    "from imblearn.under_sampling import TomekLinks\n",
    "from sklearn.metrics import confusion_matrix, classification_report\n",
    "from sklearn.neighbors import KNeighborsClassifier\n"
   ]
  },
  {
   "cell_type": "code",
   "execution_count": null,
   "id": "38863980",
   "metadata": {},
   "outputs": [],
   "source": [
    "# #Optional (depending if training based on clusters or clientID)\n",
    "# #Getting dummies for feature #10 last_invoice_paid_status\n",
    "# data = pd.get_dummies(data, columns=['Customer_NKey'], prefix = ['Customer'])"
   ]
  },
  {
   "cell_type": "code",
   "execution_count": null,
   "id": "412269a4",
   "metadata": {},
   "outputs": [],
   "source": [
    "#Categorical values for training\n",
    "categorical_cols = ['last_invoice_paid_status_-1.0','last_invoice_paid_status_0.0', 'last_invoice_paid_status_1.0']\n",
    "# Continious/ordinal  values for training\n",
    "cont_cols = ['AmountEUR','days_between_created_and_due',\n",
    "       'total_number_invoices', 'total_sum_invoices',\n",
    "       'average_days_late_and_early', 'average_days_late_total',\n",
    "       'average_days_early_total', 'total_paid_invoices',\n",
    "       'sum_amount_paid_invoices', 'total_invoices_late',\n",
    "       'total_invoices_early', 'sum_amount_late_invoices',\n",
    "       'sum_amount_early_invoices', 'total_outstanding_invoices',\n",
    "       'total_outstanding_late', 'sum_total_outstanding',\n",
    "       'sum_late_outstanding', 'average_days_late', 'average_days_early',\n",
    "       'average_days_outstanding_late', 'std_days_late', 'std_days_early',\n",
    "       'std_days_outstanding_late', 'ratio_1_late', 'ratio_1_early',\n",
    "       'ratio_2_late', 'ratio_2_early', 'ratio_3_late', 'ratio_4_late']\n",
    "\n",
    "#Combined list\n",
    "column_names_for_training = categorical_cols + cont_cols"
   ]
  },
  {
   "cell_type": "markdown",
   "id": "f6aef914",
   "metadata": {},
   "source": [
    "## Clustering invoices and clients"
   ]
  },
  {
   "cell_type": "code",
   "execution_count": null,
   "id": "0b6d71f6",
   "metadata": {
    "scrolled": false
   },
   "outputs": [],
   "source": [
    "# # #Test different numbers of clusters (for exploration purpose)\n",
    "# # #This is commented out so it wouldn't run every time. \n",
    "\n",
    "# from sklearn.cluster import KMeans\n",
    "# # Finding optimal number of clusters using elbow method \n",
    "# minmaxscaler = MinMaxScaler()\n",
    "# kmeans_df_train = minmaxscaler.fit_transform(train_val_combined_df[column_names_for_training])\n",
    "# # Finding optimal K value\n",
    "# possible_K_values = [i for i in range(2,40)]\n",
    "# # Inertia list\n",
    "# inertia = []\n",
    "# for each_value in possible_K_values:\n",
    "#     # iterate through, taking each value from \n",
    "#     KMeans_model = KMeans(n_clusters=each_value, random_state=1)\n",
    "#     # fit it\n",
    "#     KMeans_model.fit(kmeans_df_train)\n",
    "#     # append the inertia to our array\n",
    "#     inertia.append(KMeans_model.inertia_)\n",
    "    \n",
    "# plt.plot(possible_K_values, inertia)\n",
    "# plt.title('The Elbow Method')\n",
    "# plt.xlabel('Number of Clusters')\n",
    "# plt.ylabel('Inertia')\n",
    "# plt.show()"
   ]
  },
  {
   "cell_type": "code",
   "execution_count": null,
   "id": "83320276",
   "metadata": {},
   "outputs": [],
   "source": [
    "#Fitting KMeans predefined number of clusters. 10 would be reasonable, but can be changed. \n",
    "from sklearn.cluster import KMeans\n",
    "minmaxscaler = MinMaxScaler()\n",
    "kmeans_df_train = minmaxscaler.fit_transform(train_val_combined_df[column_names_for_training])\n",
    "KMeans_model = KMeans(n_clusters=NUMBER_OF_CLUSTERS, random_state=1)\n",
    "# fit it\n",
    "KMeans_model.fit(kmeans_df_train)"
   ]
  },
  {
   "cell_type": "code",
   "execution_count": null,
   "id": "673b6f50",
   "metadata": {},
   "outputs": [],
   "source": [
    "# Assigning clusters to each invoice\n",
    "k_means_df = train_val_combined_df.copy(deep=True)\n",
    "k_means_df[\"invoice_cluster\"] = KMeans_model.labels_"
   ]
  },
  {
   "cell_type": "code",
   "execution_count": null,
   "id": "eb7f1ca9",
   "metadata": {},
   "outputs": [],
   "source": [
    "# Assigning clusters to each customer\n",
    "customer_clusters = k_means_df.groupby(\"Customer_NKey\")[\"invoice_cluster\"].agg(lambda x: x.value_counts().index[0])"
   ]
  },
  {
   "cell_type": "code",
   "execution_count": null,
   "id": "968037a8",
   "metadata": {},
   "outputs": [],
   "source": [
    "def add_cluster_labels(dataset, customerclusters):\n",
    "    dataframe = dataset.copy(deep=True)\n",
    "    customer_clabels = customerclusters.to_dict()\n",
    "    for client_id in customer_clabels:\n",
    "        dataframe[dataframe[\"Customer_NKey\"] == client_id]\n",
    "        dataframe.loc[dataframe[\"Customer_NKey\"] == client_id, 'client_cluster'] = customer_clabels[client_id]\n",
    "        dataframe[\"client_cluster\"] = dataframe[\"client_cluster\"].apply(\"int64\")\n",
    "        \n",
    "        \n",
    "    return dataframe"
   ]
  },
  {
   "cell_type": "code",
   "execution_count": null,
   "id": "deb14ea8",
   "metadata": {},
   "outputs": [],
   "source": [
    "# Add customer clusters to each dataset\n",
    "train_df = add_cluster_labels(train_df, customer_clusters)\n",
    "validate_df = add_cluster_labels(validate_df, customer_clusters)\n",
    "test_df = add_cluster_labels(test_df, customer_clusters)\n",
    "train_val_combined_df = add_cluster_labels(train_val_combined_df, customer_clusters)"
   ]
  },
  {
   "cell_type": "markdown",
   "id": "cb612dfa",
   "metadata": {},
   "source": [
    "## Seperate train, val and test dataframes for cluster based or clientID based training"
   ]
  },
  {
   "cell_type": "markdown",
   "id": "d5b9b328",
   "metadata": {},
   "source": [
    "### For clusters"
   ]
  },
  {
   "cell_type": "code",
   "execution_count": null,
   "id": "02632e31",
   "metadata": {},
   "outputs": [],
   "source": [
    "cluster_train_df = train_df.copy(deep=True)\n",
    "cluster_validate_df = validate_df.copy(deep=True)\n",
    "cluster_test_df = test_df.copy(deep=True)\n",
    "cluster_train_val_combined_df = train_val_combined_df.copy(deep=True)"
   ]
  },
  {
   "cell_type": "code",
   "execution_count": null,
   "id": "655b3eb7",
   "metadata": {},
   "outputs": [],
   "source": [
    "#Getting dummies for CLIENT CLUSTERS\n",
    "cluster_train_df = pd.get_dummies(cluster_train_df, columns=['client_cluster'], prefix = ['client_cluster'])\n",
    "cluster_validate_df = pd.get_dummies(cluster_validate_df, columns=['client_cluster'], prefix = ['client_cluster'])\n",
    "cluster_test_df = pd.get_dummies(cluster_test_df, columns=['client_cluster'], prefix = ['client_cluster'])\n",
    "cluster_train_val_combined_df = pd.get_dummies(cluster_train_val_combined_df, columns=['client_cluster'], prefix = ['client_cluster'])"
   ]
  },
  {
   "cell_type": "code",
   "execution_count": null,
   "id": "75dbb665",
   "metadata": {},
   "outputs": [],
   "source": [
    "#Creating a list of col_names of dummy variables for client clusters\n",
    "colnames_client_clusters = list(cluster_train_df.columns[-(NUMBER_OF_CLUSTERS):])"
   ]
  },
  {
   "cell_type": "code",
   "execution_count": null,
   "id": "f92c0d94",
   "metadata": {},
   "outputs": [],
   "source": [
    "cols_for_cluster_training = categorical_cols + cont_cols + colnames_client_clusters"
   ]
  },
  {
   "cell_type": "code",
   "execution_count": null,
   "id": "2c3ff3ad",
   "metadata": {},
   "outputs": [],
   "source": [
    "#Creating x and y data\n",
    "### Train\n",
    "#for linear models\n",
    "cluster_train_df_linear_x = cluster_train_df[cols_for_cluster_training]\n",
    "cluster_train_df_linear_y = cluster_train_df[\"days_late\"]\n",
    "#for logistic models\n",
    "cluster_train_df_logistic_x = cluster_train_df[cols_for_cluster_training]\n",
    "cluster_train_df_logistic_y = cluster_train_df[\"category_no\"]"
   ]
  },
  {
   "cell_type": "code",
   "execution_count": null,
   "id": "70e3946e",
   "metadata": {},
   "outputs": [],
   "source": [
    "#Creating x and y data\n",
    "### Validate\n",
    "#for linear models\n",
    "cluster_validate_df_linear_x = cluster_validate_df[cols_for_cluster_training]\n",
    "cluster_validate_df_linear_y = cluster_validate_df[\"days_late\"]\n",
    "#for logistic models\n",
    "cluster_validate_df_logistic_x = cluster_validate_df[cols_for_cluster_training]\n",
    "cluster_validate_df_logistic_y = cluster_validate_df[\"category_no\"]"
   ]
  },
  {
   "cell_type": "code",
   "execution_count": null,
   "id": "ee93eee0",
   "metadata": {},
   "outputs": [],
   "source": [
    "#Creating x and y data\n",
    "### Validate\n",
    "#for linear models\n",
    "cluster_test_df_linear_x = cluster_test_df[cols_for_cluster_training]\n",
    "cluster_test_df_linear_y = cluster_test_df[\"days_late\"]\n",
    "#for logistic models\n",
    "cluster_test_df_logistic_x = cluster_test_df[cols_for_cluster_training]\n",
    "cluster_test_df_logistic_y = cluster_test_df[\"category_no\"]"
   ]
  },
  {
   "cell_type": "code",
   "execution_count": null,
   "id": "1eeb5bf2",
   "metadata": {},
   "outputs": [],
   "source": [
    "#Creating x and y data\n",
    "### Train_val combined (just in case for CV)\n",
    "#for linear models\n",
    "cluster_train_val_combined_linear_x = cluster_train_val_combined_df[cols_for_cluster_training]\n",
    "cluster_train_val_combined_linear_y = cluster_train_val_combined_df[\"days_late\"]\n",
    "#for logistic models\n",
    "cluster_train_val_combined_logistic_x = cluster_train_val_combined_df[cols_for_cluster_training]\n",
    "cluster_train_val_combined_logistic_y = cluster_train_val_combined_df[\"category_no\"]"
   ]
  },
  {
   "cell_type": "markdown",
   "id": "7dd12253",
   "metadata": {},
   "source": [
    "### For Client-ID based"
   ]
  },
  {
   "cell_type": "code",
   "execution_count": null,
   "id": "57804a5b",
   "metadata": {},
   "outputs": [],
   "source": [
    "clientid_train_df = train_df.copy(deep=True)\n",
    "clientid_validate_df = validate_df.copy(deep=True)\n",
    "clientid_test_df = test_df.copy(deep=True)\n",
    "clientid_train_val_combined_df = train_val_combined_df.copy(deep=True)"
   ]
  },
  {
   "cell_type": "code",
   "execution_count": null,
   "id": "46b3a6ca",
   "metadata": {},
   "outputs": [],
   "source": [
    "#Getting dummies for CLIENT ID\n",
    "clientid_train_df = pd.get_dummies(clientid_train_df, columns=['Customer_NKey'], prefix = ['customer'])\n",
    "clientid_validate_df = pd.get_dummies(clientid_validate_df, columns=['Customer_NKey'], prefix = ['customer'])\n",
    "clientid_test_df = pd.get_dummies(clientid_test_df, columns=['Customer_NKey'], prefix = ['customer'])\n",
    "clientid_train_val_combined_df = pd.get_dummies(clientid_train_val_combined_df, columns=['Customer_NKey'], prefix = ['customer'])"
   ]
  },
  {
   "cell_type": "code",
   "execution_count": null,
   "id": "53fad296",
   "metadata": {},
   "outputs": [],
   "source": [
    "#Creating a list of col_names of dummy variables for client IDs\n",
    "colnames_client_ids = colnames_client_ids = list(clientid_train_df.columns[-(train_df[\"Customer_NKey\"].nunique()):])"
   ]
  },
  {
   "cell_type": "code",
   "execution_count": null,
   "id": "5c6797b2",
   "metadata": {},
   "outputs": [],
   "source": [
    "cols_for_cliendid_training = categorical_cols + cont_cols + colnames_client_ids"
   ]
  },
  {
   "cell_type": "code",
   "execution_count": null,
   "id": "117b330c",
   "metadata": {},
   "outputs": [],
   "source": [
    "#Creating x and y data\n",
    "### Train\n",
    "#for linear models\n",
    "clientid_train_df_linear_x = clientid_train_df[cols_for_cliendid_training]\n",
    "clientid_train_df_linear_y = clientid_train_df[\"days_late\"]\n",
    "#for logistic models\n",
    "clientid_train_df_logistic_x = clientid_train_df[cols_for_cliendid_training]\n",
    "clientid_train_df_logistic_y = clientid_train_df[\"category_no\"]"
   ]
  },
  {
   "cell_type": "code",
   "execution_count": null,
   "id": "d3cdbee6",
   "metadata": {},
   "outputs": [],
   "source": [
    "#Creating x and y data\n",
    "### Validate\n",
    "#for linear models\n",
    "clientid_validate_df_linear_x = clientid_validate_df[cols_for_cliendid_training]\n",
    "clientid_validate_df_linear_y = clientid_validate_df[\"days_late\"]\n",
    "#for logistic models\n",
    "clientid_validate_df_logistic_x = clientid_validate_df[cols_for_cliendid_training]\n",
    "clientid_validate_df_logistic_y = clientid_validate_df[\"category_no\"]"
   ]
  },
  {
   "cell_type": "code",
   "execution_count": null,
   "id": "ba6369b1",
   "metadata": {},
   "outputs": [],
   "source": [
    "#Creating x and y data\n",
    "### Validate\n",
    "#for linear models\n",
    "clientid_test_df_linear_x = clientid_test_df[cols_for_cliendid_training]\n",
    "clientid_test_df_linear_y = clientid_test_df[\"days_late\"]\n",
    "#for logistic models\n",
    "clientid_test_df_logistic_x = clientid_test_df[cols_for_cliendid_training]\n",
    "clientid_test_df_logistic_y = clientid_test_df[\"category_no\"]"
   ]
  },
  {
   "cell_type": "code",
   "execution_count": null,
   "id": "52ddc658",
   "metadata": {},
   "outputs": [],
   "source": [
    "#Creating x and y data\n",
    "### Train_val combined (just in case for CV)\n",
    "#for linear models\n",
    "clientid_train_val_combined_linear_x = clientid_train_val_combined_df[cols_for_cliendid_training]\n",
    "clientid_train_val_combined_linear_y = clientid_train_val_combined_df[\"days_late\"]\n",
    "#for logistic models\n",
    "clientid_train_val_combined_logistic_x = clientid_train_val_combined_df[cols_for_cliendid_training]\n",
    "clientid_train_val_combined_logistic_y = clientid_train_val_combined_df[\"category_no\"]"
   ]
  },
  {
   "cell_type": "markdown",
   "id": "5da349f7",
   "metadata": {},
   "source": [
    "# More pre-processing: Fixing sample balanced + scaling data"
   ]
  },
  {
   "cell_type": "code",
   "execution_count": null,
   "id": "b73aff58",
   "metadata": {},
   "outputs": [],
   "source": [
    "#For scaling data\n",
    "def scale_datasets(dataset_train, dataset_val, continuous_cols):\n",
    "    scaler = StandardScaler()\n",
    "    df_train = dataset_train.copy(deep=True)\n",
    "    df_val = dataset_val.copy(deep=True)\n",
    "    train_scaled = scaler.fit_transform(df_train[continuous_cols])\n",
    "    val_scaled = scaler.transform(df_val[continuous_cols])\n",
    "    df_train[continuous_cols] = train_scaled\n",
    "    df_val[continuous_cols] = val_scaled\n",
    "    \n",
    "    return df_train, df_val"
   ]
  },
  {
   "cell_type": "code",
   "execution_count": null,
   "id": "b7fe5d3e",
   "metadata": {},
   "outputs": [],
   "source": [
    "def balance_classes(train_x_data, train_y_data):\n",
    "    #Apply SMOETE+Tomek links\n",
    "    #It undersamples the majority class and oversamples all but majority so all classes would be represented equally\n",
    "    resample=SMOTETomek(tomek=TomekLinks(sampling_strategy='majority'))\n",
    "    df_x_balanced, df_y_balanced = resample.fit_resample(train_x_data, train_y_data)\n",
    "    \n",
    "    return df_x_balanced, df_y_balanced"
   ]
  },
  {
   "cell_type": "markdown",
   "id": "0901242d",
   "metadata": {},
   "source": [
    "# Training"
   ]
  },
  {
   "cell_type": "code",
   "execution_count": null,
   "id": "76cebeb6",
   "metadata": {},
   "outputs": [],
   "source": [
    "def run_model_categories(train_x, train_y, val_x, val_y, continuouscols, classifier, name_for_model):\n",
    "    data_train_y = train_y\n",
    "    data_train_x = train_x\n",
    "#     #For some reason, scaling messes up the results. Perhaps not needed at all. Skipping it. \n",
    "#     print(\"Scaling data...\")\n",
    "#     data_train_x, data_val_x = scale_datasets(train_x, val_x, continuouscols)\n",
    "    print(\"Balancing classes...\")\n",
    "    #data_train_x, data_train_y = balance_classes(data_train_x, train_y)\n",
    "    model = classifier\n",
    "    print(\"Fitting model...\")\n",
    "    model.fit(data_train_x, data_train_y)\n",
    "    predictions = model.predict(val_x)\n",
    "    f1score = f1_score(val_y, predictions, average=\"weighted\",zero_division=1)\n",
    "    acc_score = accuracy_score(val_y, predictions)\n",
    "    cf_mat = confusion_matrix(val_y, predictions)\n",
    "    sns.heatmap(cf_mat/np.sum(cf_mat),cmap='Blues',\n",
    "            annot=True, fmt='.2%')\n",
    "    plt.xlabel('Predicted label', fontsize = 15)\n",
    "    plt.ylabel('True label', fontsize = 15)\n",
    "    plt.show()\n",
    "    print(f\"{name_for_model}: Accuracy: {acc_score*100}%\")\n",
    "    print(f\"{name_for_model}: F1 score: {f1score*100}%\")\n",
    "    \n",
    "    return data_train_x, data_train_y, model"
   ]
  },
  {
   "cell_type": "code",
   "execution_count": null,
   "id": "0ddbaf05",
   "metadata": {},
   "outputs": [],
   "source": [
    "def run_model_xgb(train_x, train_y, val_x, val_y, continuouscols, name_for_model, verbose_eval=False):\n",
    "    data_train_y = train_y\n",
    "    data_train_x = train_x\n",
    "#     #For some reason, scaling messes up the results. Perhaps not needed at all. Skipping it. \n",
    "#     print(\"Scaling data...\")\n",
    "#     data_train_x, data_val_x = scale_datasets(train_x, val_x, continuouscols)\n",
    "    print(\"Balancing classes...\")\n",
    "    #data_train_x, data_train_y = balance_classes(data_train_x, train_y)\n",
    "    \n",
    "    dtrain = xgb.DMatrix(data_train_x, label=data_train_y)\n",
    "    dtest = xgb.DMatrix(val_x, label=val_y)\n",
    "    param_list = [(\"objective\", \"multi:softmax\"), (\"eval_metric\", \"merror\"), (\"num_class\", NUMBER_OF_CLUSTERS)]\n",
    "    \n",
    "    # Number of trees\n",
    "    n_rounds = 600\n",
    "\n",
    "    # if nothing seems to improve for 50 iterations - stop\n",
    "    early_stopping = 50\n",
    "    # train for training and test for ... validation!   \n",
    "    eval_list = [(dtrain, \"train\"), (dtest, \"validation\")]\n",
    "    \n",
    "    \n",
    "    print(\"Fitting model...\")\n",
    "    model = xgb.train(param_list, dtrain, n_rounds, evals=eval_list, early_stopping_rounds=early_stopping, verbose_eval=verbose_eval)\n",
    "    \n",
    "    predictions = model.predict(dtest, ntree_limit=model.best_iteration + 1)\n",
    "    f1score = f1_score(val_y, predictions, average=\"weighted\",zero_division=1)\n",
    "    acc_score = accuracy_score(val_y, predictions)\n",
    "    cf_mat = confusion_matrix(val_y, predictions)\n",
    "    sns.heatmap(cf_mat/np.sum(cf_mat),cmap='Blues',\n",
    "            annot=True, fmt='.2%')\n",
    "    plt.xlabel('Predicted label', fontsize = 15)\n",
    "    plt.ylabel('True label', fontsize = 15)\n",
    "    plt.show()\n",
    "    print(f\"{name_for_model}: Accuracy: {acc_score*100}%\")\n",
    "    print(f\"{name_for_model}: F1 score: {f1score*100}%\")\n",
    "    \n",
    "    return data_train_x, data_train_y"
   ]
  },
  {
   "cell_type": "markdown",
   "id": "51e49001",
   "metadata": {},
   "source": [
    "## Cluster based"
   ]
  },
  {
   "cell_type": "markdown",
   "id": "6865f474",
   "metadata": {},
   "source": [
    "#### Logistic Regression"
   ]
  },
  {
   "cell_type": "code",
   "execution_count": null,
   "id": "ea33b1cc",
   "metadata": {},
   "outputs": [],
   "source": [
    "%%time\n",
    "# CLIENTID based LogisticRegression()\n",
    "# Choose model\n",
    "model_init = LogisticRegression(solver = 'lbfgs', random_state=1, max_iter=500)\n",
    "# Run model\n",
    "model1 = run_model_categories(clientid_train_df_logistic_x, clientid_train_df_logistic_y, \n",
    "                        clientid_validate_df_logistic_x, clientid_validate_df_logistic_y,\n",
    "                       cont_cols, model_init, \"LogisticRegression\")"
   ]
  },
  {
   "cell_type": "markdown",
   "id": "c092cc76",
   "metadata": {},
   "source": [
    "#### AdaBoostClassifier"
   ]
  },
  {
   "cell_type": "code",
   "execution_count": null,
   "id": "b75cf945",
   "metadata": {},
   "outputs": [],
   "source": [
    "%%time\n",
    "# CLIENTID based AdaBoostClassifier()\n",
    "# Choose model\n",
    "model_init = AdaBoostClassifier()\n",
    "\n",
    "# Run model\n",
    "model2 = run_model_categories(clientid_train_df_logistic_x, clientid_train_df_logistic_y, \n",
    "                        clientid_validate_df_logistic_x, clientid_validate_df_logistic_y,\n",
    "                       cont_cols, model_init, \"AdaBoostClassifier\")"
   ]
  },
  {
   "cell_type": "markdown",
   "id": "40d74001",
   "metadata": {},
   "source": [
    "#### KNeighborsClassifier"
   ]
  },
  {
   "cell_type": "code",
   "execution_count": null,
   "id": "f34858b6",
   "metadata": {
    "scrolled": false
   },
   "outputs": [],
   "source": [
    "%%time\n",
    "# CLIENTID based KNeighborsClassifier()\n",
    "# Choose model\n",
    "model_init = KNeighborsClassifier()\n",
    "\n",
    "# Run model\n",
    "model3 = run_model_categories(clientid_train_df_logistic_x, clientid_train_df_logistic_y, \n",
    "                        clientid_validate_df_logistic_x, clientid_validate_df_logistic_y,\n",
    "                       cont_cols, model_init, \"KNeighborsClassifier\")"
   ]
  },
  {
   "cell_type": "markdown",
   "id": "69e10f06",
   "metadata": {},
   "source": [
    "#### BaggingClassifier"
   ]
  },
  {
   "cell_type": "code",
   "execution_count": null,
   "id": "1592bd36",
   "metadata": {
    "scrolled": false
   },
   "outputs": [],
   "source": [
    "%%time\n",
    "from sklearn.ensemble import BaggingClassifier\n",
    "from sklearn.neighbors import KNeighborsClassifier\n",
    "\n",
    "# CLIENTID based BaggingClassifier()\n",
    "# Choose model\n",
    "model_init = BaggingClassifier(base_estimator=KNeighborsClassifier(n_neighbors=50), n_estimators=3, max_samples=0.8)\n",
    "\n",
    "# Run model\n",
    "model4 = run_model_categories(clientid_train_df_logistic_x, clientid_train_df_logistic_y, \n",
    "                        clientid_validate_df_logistic_x, clientid_validate_df_logistic_y,\n",
    "                       cont_cols, model_init, \"BaggingClassifier+KNeighborsClassifier\")"
   ]
  },
  {
   "cell_type": "markdown",
   "id": "a613a2fe",
   "metadata": {},
   "source": [
    "#### XGBoost"
   ]
  },
  {
   "cell_type": "code",
   "execution_count": null,
   "id": "2be9f2e2",
   "metadata": {
    "scrolled": false
   },
   "outputs": [],
   "source": [
    "%%time\n",
    "#XGBoost\n",
    "# Run model\n",
    "model5 = run_model_xgb(clientid_train_df_logistic_x, clientid_train_df_logistic_y, \n",
    "                        clientid_validate_df_logistic_x, clientid_validate_df_logistic_y,\n",
    "                       cont_cols, \"XGBoost\", False)"
   ]
  }
 ],
 "metadata": {
  "kernelspec": {
   "display_name": "Python 3 (ipykernel)",
   "language": "python",
   "name": "python3"
  },
  "language_info": {
   "codemirror_mode": {
    "name": "ipython",
    "version": 3
   },
   "file_extension": ".py",
   "mimetype": "text/x-python",
   "name": "python",
   "nbconvert_exporter": "python",
   "pygments_lexer": "ipython3",
   "version": "3.8.13"
  }
 },
 "nbformat": 4,
 "nbformat_minor": 5
}
