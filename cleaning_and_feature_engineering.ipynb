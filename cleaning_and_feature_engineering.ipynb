{
 "cells": [
  {
   "cell_type": "code",
   "execution_count": 2,
   "id": "e94f4eac",
   "metadata": {},
   "outputs": [],
   "source": [
    "import pandas as pd \n",
    "import matplotlib.pyplot as plt\n",
    "import numpy as np\n",
    "import datetime as dt\n",
    "import time"
   ]
  },
  {
   "cell_type": "code",
   "execution_count": 3,
   "id": "a19cb430",
   "metadata": {},
   "outputs": [],
   "source": [
    "#Load data and keep index id as \"ind_id\"\n",
    "data = pd.read_csv(\"#Customer Invoices.csv\", sep=\";\").reset_index().rename(columns={'index': 'ind_id'})"
   ]
  },
  {
   "cell_type": "code",
   "execution_count": 4,
   "id": "0845ee20",
   "metadata": {},
   "outputs": [],
   "source": [
    "pd.set_option('display.max_columns', None)\n",
    "#GLOBALS for making changing them easier\n",
    "#Threshold for number of invoices a company must have to be included in the data\n",
    "INVOICE_NR_THRESHOLD = 50\n",
    "#Threshold for the number of days after due date when an invoice is considered late\n",
    "LATENESS_THRESHOLD = 0\n",
    "#Threshold for recency window. Used to limit the number prior invoices for calculations\n",
    "# Using (len(data)+1) for all invoices, any random int for custom values\n",
    "RECENCY_THRESHOLD = len(data) + 1"
   ]
  },
  {
   "cell_type": "code",
   "execution_count": 4,
   "id": "fed375c9",
   "metadata": {},
   "outputs": [],
   "source": [
    "# Format dates to datetime objects\n",
    "data['TransDate']= pd.to_datetime(data['TransDate'], format='%d.%m.%Y')\n",
    "data['DueDate']= pd.to_datetime(data['DueDate'], format='%d.%m.%Y')\n",
    "data['Closed']= pd.to_datetime(data['Closed'], format='%d.%m.%Y')\n",
    "data['SettleTransDate']= pd.to_datetime(data['SettleTransDate'], format='%d.%m.%Y')"
   ]
  },
  {
   "cell_type": "code",
   "execution_count": 5,
   "id": "05ef95e2",
   "metadata": {},
   "outputs": [],
   "source": [
    "#Filter out not paid invoices\n",
    "data = data[data.InvoiceState == 'F']\n",
    "#Filtered out some questionable invoices\n",
    "data = data[data.Invoice != 'EUR-i kursi muutus']\n",
    "# concerting the amount from string to float\n",
    "data['AmountEUR'] = data.AmountEUR.str.replace(',','.').astype('float')\n",
    "# dropping columns that reflect duplicate data\n",
    "data = data.drop(columns=['SettledAmountEUR', 'InvoiceState', 'DataAreaId'])"
   ]
  },
  {
   "cell_type": "code",
   "execution_count": 6,
   "id": "f50925de",
   "metadata": {},
   "outputs": [],
   "source": [
    "# dropping date equal to 1900.01.01 invoice AmountEUR smaller or equal than 0\n",
    "data = data[data.AmountEUR >0]\n",
    "data = data[data.SettleTransDate != '1900-01-01']\n",
    "#Drop duplicates and unnecessary columns\n",
    "data = data.drop(columns=['Closed', 'Type'])\n",
    "data = data.drop_duplicates()\n",
    "#Drop duplicate invoices if both invoice number and client ID are the same, keep those with different client ID\n",
    "data = data[~data.duplicated(subset=['Invoice', 'Customer_NKey'])]"
   ]
  },
  {
   "cell_type": "code",
   "execution_count": 7,
   "id": "9a6c6fb5",
   "metadata": {},
   "outputs": [],
   "source": [
    "# customers list with invoices count greater or equal to INVOICE_NR_THRESHOLD\n",
    "count = pd.DataFrame((data.groupby(data['Customer_NKey'])['Customer_NKey'].agg(['count']).sort_values(by=('count'), ascending=False)))\n",
    "customer_list = count[count['count'] >= INVOICE_NR_THRESHOLD].index.values.tolist()\n",
    "data_n1 = data[data.Customer_NKey.isin(customer_list)].copy(deep=True)"
   ]
  },
  {
   "cell_type": "code",
   "execution_count": 8,
   "id": "cbd371c3",
   "metadata": {
    "scrolled": false
   },
   "outputs": [],
   "source": [
    "#Changing the order of columns\n",
    "data_n1 = data_n1.iloc[:,[0, 1, 2, 3, 4, 6, 5]]"
   ]
  },
  {
   "cell_type": "markdown",
   "id": "508753ee",
   "metadata": {},
   "source": [
    "# Feature engineering"
   ]
  },
  {
   "cell_type": "code",
   "execution_count": 9,
   "id": "6c6008c4",
   "metadata": {},
   "outputs": [],
   "source": [
    "def check_current_status(dataset, selected_date):\n",
    "    conds = [((dataset.DueDate < selected_date) & (dataset.SettleTransDate > selected_date)), ((dataset.DueDate < selected_date) & (dataset.SettleTransDate < selected_date))]  \n",
    "    choices = [1, -1] # 1 is NOT paid, but IS LATE, -1 is Paid\n",
    "    dataset['current_status'] = np.select(conds, choices, default=0) #0 = Not Paid But NOT late\n",
    "    return dataset"
   ]
  },
  {
   "cell_type": "code",
   "execution_count": 10,
   "id": "5ba2767a",
   "metadata": {},
   "outputs": [],
   "source": [
    "def calculate_current_late_days(data_data, selected_date):\n",
    "    dataset = data_data.copy(deep=True)\n",
    "    dataset[\"temporary_late_days\"] = selected_date - dataset.DueDate\n",
    "    dataset[\"temporary_late_days\"] = dataset[\"temporary_late_days\"].apply(lambda x: int(x.days))\n",
    "    dataset.loc[dataset['current_status'] == 0, 'days_late'] = 0\n",
    "    dataset.loc[dataset['current_status'] == 1, 'days_late'] = dataset.temporary_late_days.apply(lambda x: x)\n",
    "    dataset = dataset.drop(columns=['temporary_late_days'])\n",
    "    return dataset"
   ]
  },
  {
   "cell_type": "code",
   "execution_count": 11,
   "id": "53dc88dc",
   "metadata": {},
   "outputs": [],
   "source": [
    "def filter_and_analyse(df_name, index_id_nr):\n",
    "    \n",
    "    ## Setting up and selecting dataframe\n",
    "    global RECENCY_THRESHOLD\n",
    "    #Select the current row\n",
    "    selected_row_data = df_name.loc[index_id_nr]\n",
    "    #Get Customer ID\n",
    "    selected_Customer_NKey = selected_row_data[\"Customer_NKey\"]\n",
    "    #Get the date when invoice was created\n",
    "    selected_TransDate = selected_row_data[\"TransDate\"]\n",
    "    #Get other invoices for the same client\n",
    "    #Select only invoices prior to the invoice, invoices created on the same day not included\n",
    "    selected_df = df_name[(df_name.TransDate < selected_TransDate) & (df_name.Customer_NKey == selected_Customer_NKey)].sort_values(by=\"TransDate\", ascending=False)\n",
    "    #Selected number of invoices for calculation\n",
    "    selected_df = selected_df[selected_df.ind_id != index_id_nr].head(RECENCY_THRESHOLD)\n",
    "    #Calculate rolling late days for invoices which are not yet closed\n",
    "    selected_df = check_current_status(selected_df, selected_TransDate)\n",
    "    selected_df = calculate_current_late_days(selected_df, selected_TransDate)\n",
    "    \n",
    "    \n",
    "    ### For paid invoices\n",
    "    selected_df_paid = selected_df[selected_df.SettleTransDate < selected_TransDate].copy(deep=True)\n",
    "    ### For outstanding invoices\n",
    "    selected_df_outstanding = selected_df[selected_df.SettleTransDate >= selected_TransDate].copy(deep=True)\n",
    "    ## Seperation between early and late payments\n",
    "    ### For paid invoices\n",
    "    selected_df_paid[\"current_days_late\"] = selected_df_paid[\"days_late\"].apply(lambda x: abs(np.max([0, x])))\n",
    "    selected_df_paid[\"current_days_early\"] = selected_df_paid[\"days_late\"].apply(lambda x: abs(np.min([0, x])))\n",
    "    ### For outstanding invoices\n",
    "    selected_df_outstanding[\"temp_days_late\"] = selected_df_outstanding[\"DueDate\"].apply(lambda x: selected_TransDate - x)\n",
    "    selected_df_outstanding[\"temp_days_late\"] = selected_df_outstanding[\"temp_days_late\"].apply(lambda x: int(x.days))\n",
    "    selected_df_outstanding[\"current_days_late\"] = selected_df_outstanding[\"temp_days_late\"].apply(lambda x: abs(np.max([0, x])))\n",
    "    selected_df_outstanding = selected_df_outstanding.drop(columns=['temp_days_late'])\n",
    "\n",
    "    #Unconditional late days:\n",
    "    selected_df[\"current_days_late\"] = selected_df[\"days_late\"].apply(lambda x: abs(np.max([0, x])))\n",
    "    selected_df[\"current_days_early\"] = selected_df[\"days_late\"].apply(lambda x: abs(np.min([0, x])))\n",
    "    \n",
    "    \n",
    "     \n",
    "    ## Getting the needed features\n",
    "    #Totals and sums for all invoices\n",
    "    #5\n",
    "    f_total_number_invoices = len(selected_df)\n",
    "    #6\n",
    "    f_total_sum_invoices = selected_df.AmountEUR.sum()\n",
    "    #7\n",
    "    f_average_days_late_and_early = selected_df_paid.days_late.mean()\n",
    "    #8\n",
    "    f_average_days_late_total = selected_df_paid.current_days_late.mean()\n",
    "    #9\n",
    "    f_average_days_early_total = selected_df_paid.current_days_early.mean()\n",
    "    #10\n",
    "    try:\n",
    "        f_last_invoice_paid_status = 1 if selected_df.iloc[0][\"ind_id\"] == selected_df_paid.iloc[0][\"ind_id\"] else 0\n",
    "    except IndexError:\n",
    "        f_last_invoice_paid_status = -1 #first-bill\n",
    "    #11\n",
    "    f_total_paid_invoices = len(selected_df_paid)\n",
    "    #12\n",
    "    f_sum_amount_paid_invoices = selected_df_paid[\"AmountEUR\"].sum()\n",
    "    #13\n",
    "    f_total_invoices_late = len(selected_df_paid[(selected_df_paid.current_days_late > 0)])\n",
    "    #14\n",
    "    f_total_invoices_early = len(selected_df_paid[(selected_df_paid.current_days_early >= 0) & (selected_df_paid.current_days_late < 1)])\n",
    "    #15\n",
    "    f_sum_amount_late_invoices = selected_df_paid[selected_df_paid.current_days_late > 0][\"AmountEUR\"].sum()\n",
    "    #16\n",
    "    f_sum_amount_early_invoices = selected_df_paid[(selected_df_paid.current_days_early >= 0) & (selected_df_paid.current_days_late < 1)][\"AmountEUR\"].sum()\n",
    "    #17\n",
    "    f_total_outstanding_invoices = len(selected_df_outstanding)\n",
    "    #18\n",
    "    try:\n",
    "        f_total_outstanding_late = sum(selected_df_outstanding.current_days_late > 0)\n",
    "    except TypeError:\n",
    "        f_total_outstanding_late = -9999\n",
    "    #19\n",
    "    f_sum_total_outstanding = selected_df_outstanding[\"AmountEUR\"].sum()\n",
    "    #20\n",
    "    try:\n",
    "        f_sum_late_outstanding = selected_df_outstanding[selected_df_outstanding.current_days_late > 0][\"AmountEUR\"].sum()\n",
    "    except TypeError:\n",
    "        f_sum_late_outstanding = -9999\n",
    "    #21\n",
    "    f_average_days_late = selected_df_paid[selected_df_paid.current_days_late > 0][\"current_days_late\"].mean()\n",
    "    #22\n",
    "    f_average_days_early = selected_df_paid[(selected_df_paid.current_days_early >= 0) & (selected_df_paid.current_days_late == 0)][\"current_days_early\"].mean()\n",
    "    #23\n",
    "    try:\n",
    "        f_average_days_outstanding_late = selected_df_outstanding[selected_df_outstanding.current_days_late > 0][\"current_days_late\"].mean()\n",
    "    except TypeError:\n",
    "        f_average_days_outstanding_late = -9999\n",
    "    #24\n",
    "    f_std_days_late = selected_df_paid[selected_df_paid.current_days_late > 0][\"current_days_late\"].std()\n",
    "    #25\n",
    "    f_std_days_early = selected_df_paid[(selected_df_paid.current_days_early >= 0) & (selected_df_paid.current_days_late == 0)][\"current_days_early\"].std()\n",
    "    #26\n",
    "    try:\n",
    "        f_std_days_outstanding_late = selected_df_outstanding[selected_df_outstanding.current_days_late > 0][\"current_days_late\"].std()\n",
    "    except TypeError:\n",
    "        f_std_days_outstanding_late = -9999\n",
    "    #List all the results. Zeroes for indices 0-4 so feature # would match the positinal index in list.\n",
    "    results = [0, 0, 0, 0, 0,\n",
    "               f_total_number_invoices,\n",
    "               f_total_sum_invoices,\n",
    "                f_average_days_late_and_early,\n",
    "                f_average_days_late_total,\n",
    "                f_average_days_early_total,\n",
    "                f_last_invoice_paid_status,\n",
    "                f_total_paid_invoices,\n",
    "                f_sum_amount_paid_invoices,\n",
    "                f_total_invoices_late,\n",
    "                f_total_invoices_early,\n",
    "                f_sum_amount_late_invoices,\n",
    "                f_sum_amount_early_invoices,\n",
    "                f_total_outstanding_invoices,\n",
    "                f_total_outstanding_late,\n",
    "                f_sum_total_outstanding,\n",
    "                f_sum_late_outstanding,\n",
    "                f_average_days_late,\n",
    "                f_average_days_early,\n",
    "                f_average_days_outstanding_late,\n",
    "                f_std_days_late,\n",
    "                f_std_days_early,\n",
    "                f_std_days_outstanding_late,\n",
    "                ]\n",
    "    \n",
    "    return results"
   ]
  },
  {
   "cell_type": "markdown",
   "id": "d711aadb",
   "metadata": {},
   "source": [
    "### Features 1-4"
   ]
  },
  {
   "cell_type": "code",
   "execution_count": 12,
   "id": "ed561c6f",
   "metadata": {},
   "outputs": [],
   "source": [
    "# #1 Unconditional days_late\n",
    "data_n1[\"days_late\"] = data_n1.SettleTransDate - data_n1.DueDate\n",
    "data_n1[\"days_late\"] = data_n1.days_late.apply(lambda x: int(x.days))"
   ]
  },
  {
   "cell_type": "code",
   "execution_count": 13,
   "id": "d81b92b9",
   "metadata": {
    "scrolled": true
   },
   "outputs": [],
   "source": [
    "# #2 current_invoice_late_status aka is_late\n",
    "data_n1[\"is_late\"] = data_n1.days_late.apply(lambda x: 1 if x > LATENESS_THRESHOLD else 0)"
   ]
  },
  {
   "cell_type": "code",
   "execution_count": 14,
   "id": "e3d5a13f",
   "metadata": {},
   "outputs": [],
   "source": [
    "# #3 days_between_created_and_paid\n",
    "data_n1[\"days_between_created_and_paid\"] = data_n1.SettleTransDate - data_n1.TransDate\n",
    "data_n1[\"days_between_created_and_paid\"] = data_n1.days_between_created_and_paid.apply(lambda x: int(x.days))"
   ]
  },
  {
   "cell_type": "code",
   "execution_count": 15,
   "id": "69a91681",
   "metadata": {},
   "outputs": [],
   "source": [
    "# #4 days_between_created_and_due\n",
    "data_n1[\"days_between_created_and_due\"] = data_n1.DueDate - data_n1.TransDate\n",
    "data_n1[\"days_between_created_and_due\"] = data_n1.days_between_created_and_due.apply(lambda x: int(x.days))"
   ]
  },
  {
   "cell_type": "markdown",
   "id": "a1a9b9a1",
   "metadata": {},
   "source": [
    "### Features 5-26"
   ]
  },
  {
   "cell_type": "code",
   "execution_count": 16,
   "id": "149e6ceb",
   "metadata": {
    "scrolled": true
   },
   "outputs": [
    {
     "name": "stdout",
     "output_type": "stream",
     "text": [
      "CPU times: total: 50min 20s\n",
      "Wall time: 50min 28s\n"
     ]
    }
   ],
   "source": [
    "%%time\n",
    "# #5-26: Creating temporary column with features 5-26 combined\n",
    "# Took about 50 minutes to run it. \n",
    "data_n1[\"all_features\"] = data_n1[\"ind_id\"].apply(lambda x: filter_and_analyse(data_n1, x))"
   ]
  },
  {
   "cell_type": "code",
   "execution_count": 7,
   "id": "ea3cc23b",
   "metadata": {},
   "outputs": [],
   "source": [
    "## Saved and loaded the data so last step can be skilled if necessary\n",
    "#data_n1.to_csv(\"beforeseparation.csv\")\n",
    "data_n1= pd.read_csv(\"beforeseparation.csv\", index_col=0)"
   ]
  },
  {
   "cell_type": "code",
   "execution_count": 8,
   "id": "a242dabb",
   "metadata": {},
   "outputs": [],
   "source": [
    "#Since saving and loading to and from csv messed up the all_features list, here's fix:\n",
    "def string_to_list(string):\n",
    "    # input example (with brackets, commas and space): \"[42, 42, 42]\"\n",
    "    string = string[1:len(string)-1]\n",
    "    try:\n",
    "        if len(string) != 0: \n",
    "            temp_list = string.split(\", \")\n",
    "            new_list = list(map(lambda x: (x), temp_list))\n",
    "        else:\n",
    "            new_list = []\n",
    "    except:\n",
    "        new_list = [-9998]\n",
    "    return(new_list)"
   ]
  },
  {
   "cell_type": "code",
   "execution_count": 9,
   "id": "c52685ca",
   "metadata": {},
   "outputs": [],
   "source": [
    "data_n1[\"all_features\"] = data_n1.all_features.apply(lambda x: string_to_list(x))"
   ]
  },
  {
   "cell_type": "code",
   "execution_count": 10,
   "id": "c458d5a3",
   "metadata": {},
   "outputs": [],
   "source": [
    "list_of_column_names = [0,0,0,0,0,\n",
    "                        \"total_number_invoices\", #5\n",
    "                        \"total_sum_invoices\", #6\n",
    "                        \"average_days_late_and_early\", #7\n",
    "                        \"average_days_late_total\", #8\n",
    "                        \"average_days_early_total\", #9\n",
    "                        \"last_invoice_paid_status\", #10\n",
    "                        \"total_paid_invoices\", #11,\n",
    "                        \"sum_amount_paid_invoices\", #12\n",
    "                        \"total_invoices_late\", #13\n",
    "                        \"total_invoices_early\", #14\n",
    "                        \"sum_amount_late_invoices\", #15\n",
    "                        \"sum_amount_early_invoices\", #16\n",
    "                        \"total_outstanding_invoices\", #17\n",
    "                        \"total_outstanding_late\", #18\n",
    "                        \"sum_total_outstanding\", #19\n",
    "                        \"sum_late_outstanding\", #20\n",
    "                        \"average_days_late\", #21\n",
    "                        \"average_days_early\", #22\n",
    "                        \"average_days_outstanding_late\", #23\n",
    "                        \"std_days_late\", #24\n",
    "                        \"std_days_early\", #25\n",
    "                        \"std_days_outstanding_late\"] #26"
   ]
  },
  {
   "cell_type": "code",
   "execution_count": 11,
   "id": "c55270ad",
   "metadata": {},
   "outputs": [],
   "source": [
    "for feature_index in range(5,26+1):\n",
    "    data_n1[f\"{list_of_column_names[feature_index]}\"] = data_n1.all_features.apply(lambda x:float(x[feature_index]))"
   ]
  },
  {
   "cell_type": "code",
   "execution_count": 12,
   "id": "0130a224",
   "metadata": {
    "scrolled": true
   },
   "outputs": [],
   "source": [
    "# # Check for nulls \n",
    "#data_n1.isnull().sum()"
   ]
  },
  {
   "cell_type": "code",
   "execution_count": 13,
   "id": "7e98f999",
   "metadata": {},
   "outputs": [],
   "source": [
    "# Nulls are expected for last invoices and invoices which did not meet criteria:\n",
    "# such as did not have any outstanding late invoices at the time of the creation of a invoice"
   ]
  },
  {
   "cell_type": "code",
   "execution_count": 14,
   "id": "9ed0b5fb",
   "metadata": {},
   "outputs": [],
   "source": [
    "data_n1 = data_n1.drop(columns=[\"all_features\"])"
   ]
  },
  {
   "cell_type": "code",
   "execution_count": 15,
   "id": "91b94036",
   "metadata": {},
   "outputs": [],
   "source": [
    "# It should be safe to replace null values with zeros.\n",
    "data_n1 = data_n1.fillna(0)"
   ]
  },
  {
   "cell_type": "code",
   "execution_count": 16,
   "id": "d73cd9d1",
   "metadata": {},
   "outputs": [],
   "source": [
    "# Values -9999 were created for the function to work before. We can equal these to 0 as well. \n",
    "data_n1 = data_n1.replace(-9999, 0)\n",
    "#data_n1[data_n1.isin([-9999]).any(1)]\n"
   ]
  },
  {
   "cell_type": "markdown",
   "id": "0e0495de",
   "metadata": {},
   "source": [
    "### Features 27-32: ratios"
   ]
  },
  {
   "cell_type": "code",
   "execution_count": 17,
   "id": "18c6ee74",
   "metadata": {},
   "outputs": [],
   "source": [
    "# #27 ratio_1_late = Ratio of 13 over 11. (total_invoice_late / total_paid_invoices).\n",
    "data_n1[\"ratio_1_late\"] = data_n1.total_invoices_late / data_n1.total_paid_invoices"
   ]
  },
  {
   "cell_type": "code",
   "execution_count": 18,
   "id": "6967f49e",
   "metadata": {},
   "outputs": [],
   "source": [
    "# #28 ratio_1_early = Ratio of 14 over 11. (total_invoices_early / total_paid_invoices)\n",
    "data_n1[\"ratio_1_early\"] = data_n1.total_invoices_early / data_n1.total_paid_invoices"
   ]
  },
  {
   "cell_type": "code",
   "execution_count": 19,
   "id": "13c69db9",
   "metadata": {},
   "outputs": [],
   "source": [
    "# #29 ratio_2_late = Ratio of 15. over 12. (sum_amount_late_invoices / sum_amount_paid_invoices).\n",
    "data_n1[\"ratio_2_late\"] = data_n1.sum_amount_late_invoices / data_n1.sum_amount_paid_invoices"
   ]
  },
  {
   "cell_type": "code",
   "execution_count": 20,
   "id": "ded990ce",
   "metadata": {},
   "outputs": [],
   "source": [
    "# #30 ratio_2_early = Ratio of 16. over 12. (sum_amount_early_invoices / sum_amount_paid_invoices).\n",
    "data_n1[\"ratio_2_early\"] = data_n1.sum_amount_early_invoices / data_n1.sum_amount_paid_invoices"
   ]
  },
  {
   "cell_type": "code",
   "execution_count": 21,
   "id": "3acd9b7a",
   "metadata": {},
   "outputs": [],
   "source": [
    "# #31 ratio_3_late = Ratio of 18 over 17. (total_outstanding_late /total_outstanding_invoices).\n",
    "data_n1[\"ratio_3_late\"] = data_n1.total_outstanding_late / data_n1.total_outstanding_invoices"
   ]
  },
  {
   "cell_type": "code",
   "execution_count": 22,
   "id": "609001a6",
   "metadata": {},
   "outputs": [],
   "source": [
    "# #32 ratio_4_late = Ratio of 20. over 19. (sum_late_outstanding / sum_total_outstanding).\n",
    "data_n1[\"ratio_4_late\"] = data_n1.sum_late_outstanding / data_n1.sum_total_outstanding"
   ]
  },
  {
   "cell_type": "code",
   "execution_count": 19,
   "id": "9b419eb7",
   "metadata": {},
   "outputs": [],
   "source": [
    "# Dividing by zero creates new null values in same cases. Replacing with 0.\n",
    "data_n1 = data_n1.fillna(0)"
   ]
  },
  {
   "cell_type": "markdown",
   "id": "8e849a02",
   "metadata": {},
   "source": [
    "### Finishing up and exporting data"
   ]
  },
  {
   "cell_type": "code",
   "execution_count": 20,
   "id": "3ebbc8cb",
   "metadata": {},
   "outputs": [],
   "source": [
    "#data_n1.to_csv(\"invoice_data_with_features.csv\")"
   ]
  }
 ],
 "metadata": {
  "kernelspec": {
   "display_name": "Python 3 (ipykernel)",
   "language": "python",
   "name": "python3"
  },
  "language_info": {
   "codemirror_mode": {
    "name": "ipython",
    "version": 3
   },
   "file_extension": ".py",
   "mimetype": "text/x-python",
   "name": "python",
   "nbconvert_exporter": "python",
   "pygments_lexer": "ipython3",
   "version": "3.8.13"
  }
 },
 "nbformat": 4,
 "nbformat_minor": 5
}
